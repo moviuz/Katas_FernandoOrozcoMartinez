{
 "cells": [
  {
   "cell_type": "markdown",
   "metadata": {},
   "source": [
    "Ejercicip #1"
   ]
  },
  {
   "cell_type": "code",
   "execution_count": 3,
   "metadata": {},
   "outputs": [
    {
     "name": "stdout",
     "output_type": "stream",
     "text": [
      "Reporte de los tanques de combustible:\n",
      "    Promedio: 11.0%\n",
      "    Tanque Principal: 8%\n",
      "    Tanque externo: 5%\n",
      "    Tanque de Hydrogeno: 20% \n",
      "    \n"
     ]
    }
   ],
   "source": [
    "def report(tanque_1, tanque_2, tanque_3):\n",
    "    promedio = (tanque_1+tanque_2+tanque_3) /3\n",
    "    return f\"\"\"Reporte de los tanques de combustible:\n",
    "    Promedio: {promedio}%\n",
    "    Tanque Principal: {tanque_1}%\n",
    "    Tanque externo: {tanque_2}%\n",
    "    Tanque de Hydrogeno: {tanque_3}% \n",
    "    \"\"\"\n",
    "\n",
    "print(report(8,5,20))"
   ]
  },
  {
   "cell_type": "code",
   "execution_count": 4,
   "metadata": {},
   "outputs": [],
   "source": [
    "def Promedio(values):\n",
    "    total=sum(values)\n",
    "    numero_de_items=len(values)\n",
    "    return total/ numero_de_items"
   ]
  },
  {
   "cell_type": "code",
   "execution_count": 5,
   "metadata": {},
   "outputs": [
    {
     "name": "stdout",
     "output_type": "stream",
     "text": [
      "Reporte de los tanques de combustible:\n",
      "    Promedio: 7.666666666666667%\n",
      "    Tanque principal: 7%\n",
      "    Tanque externo: 11%\n",
      "    Tanque de Hidrogeno: 5% \n",
      "    \n"
     ]
    }
   ],
   "source": [
    "def report(tanque_1, tanque_2, tanque_3):\n",
    "    return f\"\"\"Reporte de los tanques de combustible:\n",
    "    Promedio: {Promedio([tanque_1, tanque_2, tanque_3])}%\n",
    "    Tanque principal: {tanque_1}%\n",
    "    Tanque externo: {tanque_2}%\n",
    "    Tanque de Hidrogeno: {tanque_3}% \n",
    "    \"\"\"\n",
    "print(report(7, 11, 5))"
   ]
  },
  {
   "cell_type": "markdown",
   "metadata": {},
   "source": [
    "Ejercicio #2"
   ]
  },
  {
   "cell_type": "code",
   "execution_count": 6,
   "metadata": {},
   "outputs": [],
   "source": [
    "def Reporte(hora, t_vuelo,destino, tanque_e, tanque_i):\n",
    "   return f\"\"\"Reporte de la misión:\n",
    "Hora de prelanzamiento en: {hora} minutos\n",
    "Tiempo de vuelo : {t_vuelo} minutos\n",
    "Combustible de tanque externo:{tanque_e} galones\n",
    "Combustible del tanque interno: {tanque_i} galones\n",
    "Con destino a : {destino}\n",
    "Total estimado de viaje: {hora+t_vuelo} minutos\n",
    "Total de combustible: {tanque_i + tanque_e} galones\"\"\""
   ]
  },
  {
   "cell_type": "code",
   "execution_count": 7,
   "metadata": {},
   "outputs": [
    {
     "name": "stdout",
     "output_type": "stream",
     "text": [
      "Reporte de la misión:\n",
      "Hora de prelanzamiento en: 14 minutos\n",
      "Tiempo de vuelo : 51 minutos\n",
      "Combustible de tanque externo:200000 galones\n",
      "Combustible del tanque interno: 300000 galones\n",
      "Con destino a : Luna\n",
      "Total estimado de viaje: 65 minutos\n",
      "Total de combustible: 500000 galones\n"
     ]
    }
   ],
   "source": [
    "print(Reporte(14, 51, \"Luna\", 200000, 300000))"
   ]
  },
  {
   "cell_type": "code",
   "execution_count": 9,
   "metadata": {},
   "outputs": [
    {
     "name": "stdout",
     "output_type": "stream",
     "text": [
      "Reporte de la misión:\n",
      "Con destino a : luna\n",
      "Total estimado de viaje: 153 minutos\n",
      "Total de combustible: 500000 galones\n"
     ]
    }
   ],
   "source": [
    "def Reporte(destino, *minutos, **combustible):\n",
    "   return f\"\"\"Reporte de la misión:\n",
    "Con destino a : {destino}\n",
    "Total estimado de viaje: {sum(minutos)} minutos\n",
    "Total de combustible: {sum(combustible.values())} galones\"\"\"\n",
    "\n",
    "print(Reporte(\"luna\", 17, 85, 51, main=300000, external=200000))"
   ]
  },
  {
   "cell_type": "code",
   "execution_count": 10,
   "metadata": {},
   "outputs": [
    {
     "name": "stdout",
     "output_type": "stream",
     "text": [
      "Reporte de la misión:\n",
      "Con destino a : Luna\n",
      "Total estimado de viaje: 74 minutos\n",
      "Total de combustible: 500000main tanque -->300000 galones izquierda\n",
      "\n"
     ]
    }
   ],
   "source": [
    "def Reporte(destino, *minutos, **combustible):\n",
    "   reporte_principal = f\"\"\"Reporte de la misión:\n",
    "Con destino a : {destino}\n",
    "Total estimado de viaje: {sum(minutos)} minutos\n",
    "Total de combustible: {sum(combustible.values())}\"\"\"\n",
    "   for tank_name, galones in combustible.items():\n",
    "       reporte_principal += f\"{tank_name} tanque -->{galones} galones izquierda\\n\"\n",
    "       return reporte_principal\n",
    "\n",
    "print(Reporte(\"Luna\", 8, 11, 55, main=300000, external=200000))"
   ]
  }
 ],
 "metadata": {
  "interpreter": {
   "hash": "259ddedce5241d8f21316982d7b3b88cdb9c273d019b019540dd04201cfe1fe0"
  },
  "kernelspec": {
   "display_name": "Python 3.9.7 64-bit",
   "language": "python",
   "name": "python3"
  },
  "language_info": {
   "codemirror_mode": {
    "name": "ipython",
    "version": 3
   },
   "file_extension": ".py",
   "mimetype": "text/x-python",
   "name": "python",
   "nbconvert_exporter": "python",
   "pygments_lexer": "ipython3",
   "version": "3.9.5"
  },
  "orig_nbformat": 4
 },
 "nbformat": 4,
 "nbformat_minor": 2
}
