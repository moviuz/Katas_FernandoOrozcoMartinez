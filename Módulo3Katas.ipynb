{
 "cells": [
  {
   "cell_type": "code",
   "execution_count": 7,
   "metadata": {},
   "outputs": [
    {
     "name": "stdout",
     "output_type": "stream",
     "text": [
      "Cuidado! un asteroide esta muy cerca!\n"
     ]
    }
   ],
   "source": [
    "asteroide = 49\n",
    "if asteroide > 25:\n",
    "    print('Cuidado! un asteroide esta muy cerca!')\n",
    "else:\n",
    "    print('Aquí no pasa nada!')"
   ]
  },
  {
   "cell_type": "code",
   "execution_count": 6,
   "metadata": {},
   "outputs": [
    {
     "name": "stdout",
     "output_type": "stream",
     "text": [
      "Va a llover?\n"
     ]
    }
   ],
   "source": [
    "asteroide = 19\n",
    "if asteroide > 20:\n",
    "    print('Hay una rayo de luz grande')\n",
    "elif asteroide == 20:\n",
    "    print('Ay caramba, Hay un rayo de luz')\n",
    "else:\n",
    "    print('Va a llover?')"
   ]
  },
  {
   "cell_type": "code",
   "execution_count": 5,
   "metadata": {},
   "outputs": [
    {
     "name": "stdout",
     "output_type": "stream",
     "text": [
      "Ese rayo es por un asteroide!\n"
     ]
    }
   ],
   "source": [
    "velocidadAsteroide = 25\n",
    "tamanoAsteroide = 40\n",
    "if velocidadAsteroide > 25 and tamanoAsteroide > 25:\n",
    "    print('Nos vamos a morir!')\n",
    "elif velocidadAsteroide >= 20:\n",
    "    print('Ese rayo es por un asteroide!')\n",
    "elif tamanoAsteroide < 25:\n",
    "    print('Todo esta tranquilo y tropical')\n",
    "else:\n",
    "    print('Todo esta tranquilo y tropicalx2')"
   ]
  }
 ],
 "metadata": {
  "interpreter": {
   "hash": "259ddedce5241d8f21316982d7b3b88cdb9c273d019b019540dd04201cfe1fe0"
  },
  "kernelspec": {
   "display_name": "Python 3.9.7 64-bit",
   "name": "python3"
  },
  "language_info": {
   "codemirror_mode": {
    "name": "ipython",
    "version": 3
   },
   "file_extension": ".py",
   "mimetype": "text/x-python",
   "name": "python",
   "nbconvert_exporter": "python",
   "pygments_lexer": "ipython3",
   "version": "3.9.7"
  },
  "orig_nbformat": 4
 },
 "nbformat": 4,
 "nbformat_minor": 2
}
